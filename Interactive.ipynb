{
 "cells": [
  {
   "cell_type": "code",
   "execution_count": 1,
   "metadata": {},
   "outputs": [],
   "source": [
    "import datetime\n",
    "import numpy as np\n",
    "import pandas as pd\n",
    "\n",
    "import plotly.graph_objects as go\n",
    "from ipywidgets import widgets"
   ]
  },
  {
   "cell_type": "code",
   "execution_count": 2,
   "metadata": {},
   "outputs": [],
   "source": [
    "df = pd.read_csv(\n",
    "    'https://raw.githubusercontent.com/yankev/testing/master/datasets/nycflights.csv')\n",
    "df = df.drop(df.columns[[0]], axis=1)"
   ]
  },
  {
   "cell_type": "code",
   "execution_count": 3,
   "metadata": {},
   "outputs": [
    {
     "data": {
      "text/html": [
       "<div>\n",
       "<style scoped>\n",
       "    .dataframe tbody tr th:only-of-type {\n",
       "        vertical-align: middle;\n",
       "    }\n",
       "\n",
       "    .dataframe tbody tr th {\n",
       "        vertical-align: top;\n",
       "    }\n",
       "\n",
       "    .dataframe thead th {\n",
       "        text-align: right;\n",
       "    }\n",
       "</style>\n",
       "<table border=\"1\" class=\"dataframe\">\n",
       "  <thead>\n",
       "    <tr style=\"text-align: right;\">\n",
       "      <th></th>\n",
       "      <th>year</th>\n",
       "      <th>month</th>\n",
       "      <th>day</th>\n",
       "      <th>dep_time</th>\n",
       "      <th>dep_delay</th>\n",
       "      <th>arr_time</th>\n",
       "      <th>arr_delay</th>\n",
       "      <th>carrier</th>\n",
       "      <th>tailnum</th>\n",
       "      <th>flight</th>\n",
       "      <th>origin</th>\n",
       "      <th>dest</th>\n",
       "      <th>air_time</th>\n",
       "      <th>distance</th>\n",
       "      <th>hour</th>\n",
       "      <th>minute</th>\n",
       "    </tr>\n",
       "  </thead>\n",
       "  <tbody>\n",
       "    <tr>\n",
       "      <td>155265</td>\n",
       "      <td>2013</td>\n",
       "      <td>3</td>\n",
       "      <td>21</td>\n",
       "      <td>1143.0</td>\n",
       "      <td>-1.0</td>\n",
       "      <td>1418.0</td>\n",
       "      <td>-16.0</td>\n",
       "      <td>UA</td>\n",
       "      <td>N26123</td>\n",
       "      <td>1690</td>\n",
       "      <td>EWR</td>\n",
       "      <td>MCO</td>\n",
       "      <td>135.0</td>\n",
       "      <td>937</td>\n",
       "      <td>11.0</td>\n",
       "      <td>43.0</td>\n",
       "    </tr>\n",
       "    <tr>\n",
       "      <td>326673</td>\n",
       "      <td>2013</td>\n",
       "      <td>9</td>\n",
       "      <td>19</td>\n",
       "      <td>NaN</td>\n",
       "      <td>NaN</td>\n",
       "      <td>NaN</td>\n",
       "      <td>NaN</td>\n",
       "      <td>UA</td>\n",
       "      <td>NaN</td>\n",
       "      <td>643</td>\n",
       "      <td>EWR</td>\n",
       "      <td>ORD</td>\n",
       "      <td>NaN</td>\n",
       "      <td>719</td>\n",
       "      <td>NaN</td>\n",
       "      <td>NaN</td>\n",
       "    </tr>\n",
       "    <tr>\n",
       "      <td>329591</td>\n",
       "      <td>2013</td>\n",
       "      <td>9</td>\n",
       "      <td>23</td>\n",
       "      <td>1025.0</td>\n",
       "      <td>-1.0</td>\n",
       "      <td>1125.0</td>\n",
       "      <td>-5.0</td>\n",
       "      <td>B6</td>\n",
       "      <td>N198JB</td>\n",
       "      <td>518</td>\n",
       "      <td>JFK</td>\n",
       "      <td>BOS</td>\n",
       "      <td>38.0</td>\n",
       "      <td>187</td>\n",
       "      <td>10.0</td>\n",
       "      <td>25.0</td>\n",
       "    </tr>\n",
       "  </tbody>\n",
       "</table>\n",
       "</div>"
      ],
      "text/plain": [
       "        year  month  day  dep_time  dep_delay  arr_time  arr_delay carrier  \\\n",
       "155265  2013      3   21    1143.0       -1.0    1418.0      -16.0      UA   \n",
       "326673  2013      9   19       NaN        NaN       NaN        NaN      UA   \n",
       "329591  2013      9   23    1025.0       -1.0    1125.0       -5.0      B6   \n",
       "\n",
       "       tailnum  flight origin dest  air_time  distance  hour  minute  \n",
       "155265  N26123    1690    EWR  MCO     135.0       937  11.0    43.0  \n",
       "326673     NaN     643    EWR  ORD       NaN       719   NaN     NaN  \n",
       "329591  N198JB     518    JFK  BOS      38.0       187  10.0    25.0  "
      ]
     },
     "execution_count": 3,
     "metadata": {},
     "output_type": "execute_result"
    }
   ],
   "source": [
    "df.sample(3)"
   ]
  },
  {
   "cell_type": "code",
   "execution_count": 4,
   "metadata": {},
   "outputs": [
    {
     "data": {
      "text/plain": [
       "array(['UA', 'AA', 'B6', 'DL', 'EV', 'MQ', 'US', 'WN', 'VX', 'FL', 'AS',\n",
       "       '9E', 'F9', 'HA', 'YV', 'OO'], dtype=object)"
      ]
     },
     "execution_count": 4,
     "metadata": {},
     "output_type": "execute_result"
    }
   ],
   "source": [
    "df['carrier'].unique()"
   ]
  },
  {
   "cell_type": "code",
   "execution_count": 6,
   "metadata": {},
   "outputs": [],
   "source": [
    "month = widgets.IntSlider(\n",
    "    value=1.0,\n",
    "    min=1.0,\n",
    "    max=12.0,\n",
    "    step=1.0,\n",
    "    description='Month:',\n",
    "    continuous_update=False\n",
    ")\n",
    "\n",
    "use_date = widgets.Checkbox(\n",
    "    description='Date: ',\n",
    "    value=True,\n",
    ")\n",
    "\n",
    "container = widgets.HBox(children=[use_date, month])\n",
    "\n",
    "textbox = widgets.Dropdown(\n",
    "    description='Airline:   ',\n",
    "    value='DL',\n",
    "    options=df['carrier'].unique().tolist()\n",
    ")\n",
    "\n",
    "origin = widgets.Dropdown(\n",
    "    options=list(df['origin'].unique()),\n",
    "    value='LGA',\n",
    "    description='Origin Airport:',\n",
    ")\n",
    "\n",
    "\n",
    "# Assign an empty figure widget with two traces\n",
    "trace1 = go.Histogram(x=df['arr_delay'], opacity=0.75, name='Arrival Delays')\n",
    "trace2 = go.Histogram(x=df['dep_delay'], opacity=0.75, name='Departure Delays')\n",
    "g = go.FigureWidget(data=[trace1, trace2],\n",
    "                    layout=go.Layout(\n",
    "                        title=dict(\n",
    "                            text='NYC FlightDatabase'\n",
    "                        ),\n",
    "                        barmode='overlay'\n",
    "                    ))"
   ]
  },
  {
   "cell_type": "code",
   "execution_count": 8,
   "metadata": {},
   "outputs": [],
   "source": [
    "def validate():\n",
    "    if origin.value in df['origin'].unique() and textbox.value in df['carrier'].unique():\n",
    "        return True\n",
    "    else:\n",
    "        return False\n",
    "\n",
    "\n",
    "def response(change):\n",
    "    if validate():\n",
    "        if use_date.value:\n",
    "            filter_list = [i and j and k for i, j, k in\n",
    "                           zip(df['month'] == month.value, df['carrier'] == textbox.value,\n",
    "                               df['origin'] == origin.value)]\n",
    "            temp_df = df[filter_list]\n",
    "\n",
    "        else:\n",
    "            filter_list = [i and j for i, j in\n",
    "                           zip(df['carrier'] == 'DL', df['origin'] == origin.value)]\n",
    "            temp_df = df[filter_list]\n",
    "        x1 = temp_df['arr_delay']\n",
    "        x2 = temp_df['dep_delay']\n",
    "        with g.batch_update():\n",
    "            g.data[0].x = x1\n",
    "            g.data[1].x = x2\n",
    "            g.layout.barmode = 'overlay'\n",
    "            g.layout.xaxis.title = 'Delay in Minutes'\n",
    "            g.layout.yaxis.title = 'Number of Delays'\n",
    "\n",
    "\n",
    "origin.observe(response, names=\"value\")\n",
    "textbox.observe(response, names=\"value\")\n",
    "month.observe(response, names=\"value\")\n",
    "use_date.observe(response, names=\"value\")"
   ]
  },
  {
   "cell_type": "code",
   "execution_count": 9,
   "metadata": {},
   "outputs": [
    {
     "data": {
      "application/vnd.jupyter.widget-view+json": {
       "model_id": "fb8087daf3e94b7b8e785bd1071d5ddd",
       "version_major": 2,
       "version_minor": 0
      },
      "text/plain": [
       "VBox(children=(HBox(children=(Checkbox(value=True, description='Date: '), IntSlider(value=1, continuous_update…"
      ]
     },
     "metadata": {},
     "output_type": "display_data"
    }
   ],
   "source": [
    "container2 = widgets.HBox([origin, textbox])\n",
    "widgets.VBox([container,\n",
    "              container2,\n",
    "              g])"
   ]
  },
  {
   "cell_type": "code",
   "execution_count": null,
   "metadata": {},
   "outputs": [],
   "source": []
  },
  {
   "cell_type": "code",
   "execution_count": null,
   "metadata": {},
   "outputs": [],
   "source": []
  }
 ],
 "metadata": {
  "kernelspec": {
   "display_name": "Python 3",
   "language": "python",
   "name": "python3"
  },
  "language_info": {
   "codemirror_mode": {
    "name": "ipython",
    "version": 3
   },
   "file_extension": ".py",
   "mimetype": "text/x-python",
   "name": "python",
   "nbconvert_exporter": "python",
   "pygments_lexer": "ipython3",
   "version": "3.7.4"
  }
 },
 "nbformat": 4,
 "nbformat_minor": 2
}
